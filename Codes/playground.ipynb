{
 "cells": [
  {
   "cell_type": "code",
   "execution_count": 53,
   "metadata": {},
   "outputs": [],
   "source": [
    "import numpy as np\n",
    "from sklearn.model_selection import train_test_split\n",
    "from matplotlib import pyplot as plt"
   ]
  },
  {
   "cell_type": "code",
   "execution_count": 57,
   "metadata": {},
   "outputs": [],
   "source": [
    "        # get all the data first\n",
    "        left_raw = np.load('../Datasets/lyh_dataset/left_processed.npy') # label: 0\n",
    "        right_raw = np.load('../Datasets/lyh_dataset/right_processed.npy') # label: 1\n",
    "        leg_raw = np.load('../Datasets/lyh_dataset/left_processed.npy') # label: 2\n",
    "        nothing_raw = np.load('../Datasets/lyh_dataset/nothing_processed.npy') # label: 3\n",
    "        eeg_raw = [left_raw, right_raw, leg_raw, nothing_raw]\n",
    "\n",
    "        X_tot = []\n",
    "        y_tot = []\n",
    "\n",
    "        for i in range(4):\n",
    "            tmp = eeg_raw[i].reshape(15, 300, -1) # (15, 30_0000) => (15, 300, 1000)\n",
    "            tmp = tmp[:14, :, :] # filter the channels, only need the first 14 channels\n",
    "            X_raw = tmp.transpose((1, 0, 2)) # (14, 300, 1000) => (300, 14, 1000)\n",
    "            y_raw = np.array([i for j in range(300)]) # (300,) value = label\n",
    "            X_tot.append(X_raw)\n",
    "            y_tot.append(y_raw)\n",
    "\n",
    "        X_tot = np.concatenate(X_tot)\n",
    "        y_tot = np.concatenate(y_tot)\n",
    "\n",
    "        # print(X_tot.shape, y_tot.shape) # (1200, 14, 1000), (1200,)\n",
    "    \n",
    "\n",
    "        train_data = X_tot # (1200, 14, 1000)\n",
    "        train_data = np.expand_dims(train_data, axis=1) # (1200, 1, 14, 1000)\n",
    "        train_label = y_tot.reshape(1200, 1) # (1200, 1)\n",
    "        \n",
    "        allData = train_data # (1200, 1, 14, 1000)\n",
    "        allLabel = train_label.squeeze() # (1200, )\n",
    "\n",
    "        shuffle_num = np.random.permutation(len(allData))\n",
    "        # print(f\"Shuffle num {shuffle_num}\")\n",
    "        allData = allData[shuffle_num, :, :, :]\n",
    "        allLabel = allLabel[shuffle_num]\n"
   ]
  },
  {
   "cell_type": "code",
   "execution_count": 59,
   "metadata": {},
   "outputs": [
    {
     "data": {
      "text/plain": [
       "(1200, 1, 14, 1000)"
      ]
     },
     "execution_count": 59,
     "metadata": {},
     "output_type": "execute_result"
    }
   ],
   "source": [
    "allData.shape"
   ]
  },
  {
   "cell_type": "code",
   "execution_count": 60,
   "metadata": {},
   "outputs": [],
   "source": [
    "X_train, X_test, y_train, y_test = train_test_split(allData, allLabel, train_size=0.7)"
   ]
  },
  {
   "cell_type": "code",
   "execution_count": 61,
   "metadata": {},
   "outputs": [
    {
     "data": {
      "text/plain": [
       "((840, 1, 14, 1000), (360, 1, 14, 1000), (840,), (360,))"
      ]
     },
     "execution_count": 61,
     "metadata": {},
     "output_type": "execute_result"
    }
   ],
   "source": [
    "X_train.shape, X_test.shape, y_train.shape, y_test.shape"
   ]
  },
  {
   "cell_type": "code",
   "execution_count": 52,
   "metadata": {},
   "outputs": [
    {
     "data": {
      "text/plain": [
       "(1200,)"
      ]
     },
     "execution_count": 52,
     "metadata": {},
     "output_type": "execute_result"
    }
   ],
   "source": [
    "y_tot.reshape(1200, 1).squeeze().shape"
   ]
  },
  {
   "cell_type": "code",
   "execution_count": null,
   "metadata": {},
   "outputs": [],
   "source": [
    "left_raw = np.load('../Datasets/lyh_dataset/left_processed.npy').reshape()\n",
    "right_raw = np.load('../Datasets/lyh_dataset/right_processed.npy')\n",
    "leg_raw = np.load('../Datasets/lyh_dataset/left_processed.npy')\n",
    "nothing_raw = np.load('../Datasets/lyh_dataset/nothing_processed.npy')\n",
    "\n",
    "eeg_raw = [left_raw, right_raw, leg_raw, nothing_raw]"
   ]
  },
  {
   "cell_type": "code",
   "execution_count": null,
   "metadata": {},
   "outputs": [],
   "source": [
    "test_arr = np.array([i for i in range(30_0000)])"
   ]
  },
  {
   "cell_type": "code",
   "execution_count": null,
   "metadata": {},
   "outputs": [],
   "source": [
    "test_arr.reshape(300, -1)"
   ]
  },
  {
   "cell_type": "code",
   "execution_count": null,
   "metadata": {},
   "outputs": [],
   "source": [
    "for i in range(4):\n",
    "    print(eeg_raw[i].shape)"
   ]
  },
  {
   "cell_type": "code",
   "execution_count": null,
   "metadata": {},
   "outputs": [],
   "source": [
    "tmp = left_raw.reshape(15, 300, -1)"
   ]
  },
  {
   "cell_type": "code",
   "execution_count": null,
   "metadata": {},
   "outputs": [],
   "source": [
    "tmp.shape"
   ]
  },
  {
   "cell_type": "code",
   "execution_count": null,
   "metadata": {},
   "outputs": [],
   "source": [
    "tmp_trans = tmp.transpose((1, 0, 2))"
   ]
  },
  {
   "cell_type": "code",
   "execution_count": null,
   "metadata": {},
   "outputs": [],
   "source": [
    "tmp_trans.shape"
   ]
  },
  {
   "cell_type": "code",
   "execution_count": null,
   "metadata": {},
   "outputs": [],
   "source": [
    "raw_eeg_left = tmp_trans[:, :14, :]\n",
    "raw_eeg_left.shape"
   ]
  },
  {
   "cell_type": "code",
   "execution_count": null,
   "metadata": {},
   "outputs": [],
   "source": [
    "plt.plot(raw_eeg_left[0][0])\n",
    "plt.plot(raw_eeg_left[1][0])\n",
    "plt.plot(raw_eeg_left[2][0])"
   ]
  },
  {
   "cell_type": "code",
   "execution_count": null,
   "metadata": {},
   "outputs": [],
   "source": [
    "        left_raw = np.load('../Datasets/lyh_dataset/left_processed.npy')\n",
    "        right_raw = np.load('../Datasets/lyh_dataset/right_processed.npy')\n",
    "        leg_raw = np.load('../Datasets/lyh_dataset/left_processed.npy')\n",
    "        nothing_raw = np.load('../Datasets/lyh_dataset/nothing_processed.npy')\n",
    "        eeg_raw = [left_raw, right_raw, leg_raw, nothing_raw]\n",
    "\n",
    "        X_tot = []\n",
    "        y_tot = []\n",
    "\n",
    "        for i in range(4):\n",
    "            tmp = eeg_raw[i].reshape(15, 300, -1) # (15, 30_0000) => (15, 300, 1000)\n",
    "            tmp = tmp[:14, :, :] # filter the channels, only need the first 14 channels\n",
    "            X_raw = tmp.transpose((1, 0, 2)) # (14, 300, 1000) => (300, 14, 1000)\n",
    "            y_raw = np.array([i for j in range(300)]) # (300,) value = label\n",
    "            X_tot.append(X_raw)\n",
    "            y_tot.append(y_raw)"
   ]
  },
  {
   "cell_type": "code",
   "execution_count": null,
   "metadata": {},
   "outputs": [],
   "source": [
    "len(X_tot)"
   ]
  },
  {
   "cell_type": "code",
   "execution_count": null,
   "metadata": {},
   "outputs": [],
   "source": [
    "X_tot = np.concatenate(X_tot)"
   ]
  },
  {
   "cell_type": "code",
   "execution_count": null,
   "metadata": {},
   "outputs": [],
   "source": [
    "X_tot.shape"
   ]
  },
  {
   "cell_type": "code",
   "execution_count": null,
   "metadata": {},
   "outputs": [],
   "source": [
    "y_tot\n"
   ]
  },
  {
   "cell_type": "code",
   "execution_count": null,
   "metadata": {},
   "outputs": [],
   "source": [
    "y_tot = np.concatenate(y_tot)\n",
    "y_tot.shape"
   ]
  }
 ],
 "metadata": {
  "kernelspec": {
   "display_name": "conformer",
   "language": "python",
   "name": "python3"
  },
  "language_info": {
   "codemirror_mode": {
    "name": "ipython",
    "version": 3
   },
   "file_extension": ".py",
   "mimetype": "text/x-python",
   "name": "python",
   "nbconvert_exporter": "python",
   "pygments_lexer": "ipython3",
   "version": "3.10.13"
  },
  "orig_nbformat": 4,
  "vscode": {
   "interpreter": {
    "hash": "0fcfee1cbcc614d89762d7217c55f77d0954883cbb578ec2ab23e8ec34bf6529"
   }
  }
 },
 "nbformat": 4,
 "nbformat_minor": 2
}
